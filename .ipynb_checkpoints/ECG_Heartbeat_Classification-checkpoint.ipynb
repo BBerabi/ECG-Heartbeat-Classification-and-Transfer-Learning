{
 "cells": [
  {
   "cell_type": "markdown",
   "metadata": {},
   "source": [
    "# ECG Heartbeat Classification  \n",
    "In this notebook you will find instructions to proceed with the python scripts.  "
   ]
  },
  {
   "cell_type": "markdown",
   "metadata": {},
   "source": [
    "## 0. Preparation    \n",
    "In this step you will prepare the environment and a YAML file of all paths of models\n"
   ]
  },
  {
   "cell_type": "markdown",
   "metadata": {},
   "source": [
    "- Prepare environment\n",
    "\n"
   ]
  },
  {
   "cell_type": "code",
   "execution_count": null,
   "metadata": {},
   "outputs": [],
   "source": []
  },
  {
   "cell_type": "markdown",
   "metadata": {},
   "source": [
    "- Prepare paths of models and python scripts in a YAML file  \n",
    "    How the paths are stored."
   ]
  },
  {
   "cell_type": "code",
   "execution_count": 2,
   "metadata": {},
   "outputs": [
    {
     "name": "stdout",
     "output_type": "stream",
     "text": [
      "Baseline:\r\n",
      "  MITBIH: /home/ander/Documents/git/mlfhc/visualization_clustering/baseline_cnn_mitbih.h5\r\n",
      "  MITBIH_Representation: /home/ander/Documents/git/mlfhc/visualization_clustering/mitbih_representations.npy\r\n",
      "  PTDB: /home/ander/Documents/git/mlfhc/visualization_clustering/baseline_cnn_ptbdb.h5\r\n",
      "  PTDB_Representation: /home/ander/Documents/git/mlfhc/visualization_clustering/ptbdb_representations.npy\r\n",
      "MITBIH:\r\n",
      "  Data: /home/ander/Documents/git/mlfhc/data\r\n",
      "  Models:\r\n",
      "    BRNN: /home/ander/Documents/git/mlfhc/models/brnn/brnn_mitbih.h5\r\n",
      "    CNN_LSTM: /home/ander/Documents/git/mlfhc/models/cnn_lstm/best_clfc_mitbih_9801.h5\r\n",
      "    CNN_Res: /home/ander/Documents/git/mlfhc/models/cnn_res/cnn_residual_mitbih.h5\r\n",
      "    GRU: /home/ander/Documents/git/mlfhc/models/gru/best_model_GRU_mitbih_9817.h5\r\n",
      "    Inception: /home/ander/Documents/git/mlfhc/models/inception/BestModel_Inception_mitbih_9891.h5\r\n",
      "    LSTM: /home/ander/Documents/git/mlfhc/models/lstm/best_model_lstm_mitbih_976.h5\r\n",
      "    RNN: /home/ander/Documents/git/mlfhc/models/rnn/BestModel_RNN_mitbih_908.h5\r\n",
      "Optionals:\r\n",
      "  Optional_1:\r\n",
      "    Optional1_GRU: /home/ander/Documents/git/mlfhc/optionals/optional1/optional1_GRU.h5\r\n",
      "    Optional1_LSTM: /home/ander/Documents/git/mlfhc/optionals/optional1/optional1_LSTM.h5\r\n",
      "    Optional1_RNN: /home/ander/Documents/git/mlfhc/optionals/optional1/optional1_RNN.h5\r\n",
      "  Optional_2:\r\n",
      "    Optional2_GRU: /home/ander/Documents/git/mlfhc/optionals/optional2/optional2_GRU.h5\r\n",
      "    Optional2_LSTM: /home/ander/Documents/git/mlfhc/optionals/optional2/optional2_LSTM.h5\r\n",
      "    Optional2_RNN: /home/ander/Documents/git/mlfhc/optionals/optional2/optional2_RNN.h5\r\n",
      "  Optional_3:\r\n",
      "    Optional3_GRU: /home/ander/Documents/git/mlfhc/optionals/optional3/optional3_GRU.h5\r\n",
      "    Optional3_LSTM: /home/ander/Documents/git/mlfhc/optionals/optional3/optional3_LSTM.h5\r\n",
      "    Optional3_RNN: /home/ander/Documents/git/mlfhc/optionals/optional3/optional3_RNN.h5\r\n",
      "PTDB:\r\n",
      "  Data: /home/ander/Documents/git/mlfhc/data\r\n",
      "  Models:\r\n",
      "    BRNN: /home/ander/Documents/git/mlfhc/models/brnn/brnn_ptbdb.h5\r\n",
      "    CNN_LSTM: /home/ander/Documents/git/mlfhc/models/cnn_lstm/best_clf_ptbdb_9776_2cnn.h5\r\n",
      "    CNN_Res: /home/ander/Documents/git/mlfhc/models/cnn_res/cnn_residual_ptbdb.h5\r\n",
      "    GRU: /home/ander/Documents/git/mlfhc/models/gru/BestModel_GRU_ptdb_9014.h5\r\n",
      "    Inception: /home/ander/Documents/git/mlfhc/models/inception/BestModel_Inception_ptdb_7220.h5\r\n",
      "    LSTM: /home/ander/Documents/git/mlfhc/models/lstm/best_model_lstm_ptbdb_9673.h5\r\n",
      "    RNN: /home/ander/Documents/git/mlfhc/models/rnn/BestModel_RNN_ptdb_91.h5\r\n"
     ]
    }
   ],
   "source": [
    "!python write_yaml.py\n",
    "!cat paths.yaml"
   ]
  },
  {
   "cell_type": "markdown",
   "metadata": {},
   "source": [
    "## 1. Visualization and Clustering"
   ]
  },
  {
   "cell_type": "code",
   "execution_count": null,
   "metadata": {},
   "outputs": [],
   "source": []
  },
  {
   "cell_type": "markdown",
   "metadata": {},
   "source": [
    "## 2. Models"
   ]
  },
  {
   "cell_type": "markdown",
   "metadata": {},
   "source": [
    "### 2.1. Recurrent Neural Network "
   ]
  },
  {
   "cell_type": "code",
   "execution_count": null,
   "metadata": {},
   "outputs": [],
   "source": []
  },
  {
   "cell_type": "markdown",
   "metadata": {},
   "source": [
    "### 2.2. Long Short Term Memory "
   ]
  },
  {
   "cell_type": "code",
   "execution_count": null,
   "metadata": {},
   "outputs": [],
   "source": []
  },
  {
   "cell_type": "markdown",
   "metadata": {},
   "source": [
    "### 2.3. Gated Recurrent Unit "
   ]
  },
  {
   "cell_type": "code",
   "execution_count": null,
   "metadata": {},
   "outputs": [],
   "source": []
  },
  {
   "cell_type": "markdown",
   "metadata": {},
   "source": [
    "### 2.4. Convolutional Neural Network based Models\n",
    "#### 2.4.1. CNN with LSTM"
   ]
  },
  {
   "cell_type": "code",
   "execution_count": null,
   "metadata": {},
   "outputs": [],
   "source": []
  },
  {
   "cell_type": "markdown",
   "metadata": {},
   "source": [
    "#### 2.4.2. CNN with Residual Connections"
   ]
  },
  {
   "cell_type": "code",
   "execution_count": null,
   "metadata": {},
   "outputs": [],
   "source": []
  },
  {
   "cell_type": "markdown",
   "metadata": {},
   "source": [
    "### 2.5. Inception Time"
   ]
  },
  {
   "cell_type": "code",
   "execution_count": null,
   "metadata": {},
   "outputs": [],
   "source": []
  },
  {
   "cell_type": "markdown",
   "metadata": {},
   "source": [
    "### 2.6. Bidirectional Recurrent Neural Network"
   ]
  },
  {
   "cell_type": "code",
   "execution_count": null,
   "metadata": {},
   "outputs": [],
   "source": []
  },
  {
   "cell_type": "markdown",
   "metadata": {},
   "source": [
    "### 2.7. Ensemble Models"
   ]
  },
  {
   "cell_type": "markdown",
   "metadata": {},
   "source": [
    "#### 2.7.1. Ensemble Model involving all models"
   ]
  },
  {
   "cell_type": "code",
   "execution_count": null,
   "metadata": {},
   "outputs": [],
   "source": []
  },
  {
   "cell_type": "markdown",
   "metadata": {},
   "source": [
    "#### 2.7.2. Ensemble Model involving the models with best accuracies"
   ]
  },
  {
   "cell_type": "code",
   "execution_count": null,
   "metadata": {},
   "outputs": [],
   "source": []
  },
  {
   "cell_type": "markdown",
   "metadata": {},
   "source": [
    "### 2.8. Transfer Learning Models"
   ]
  },
  {
   "cell_type": "markdown",
   "metadata": {},
   "source": [
    "#### 2.8.1. Optional 1"
   ]
  },
  {
   "cell_type": "code",
   "execution_count": null,
   "metadata": {},
   "outputs": [],
   "source": []
  },
  {
   "cell_type": "markdown",
   "metadata": {},
   "source": [
    "#### 2.8.2. Optional 2"
   ]
  },
  {
   "cell_type": "code",
   "execution_count": null,
   "metadata": {},
   "outputs": [],
   "source": []
  },
  {
   "cell_type": "markdown",
   "metadata": {},
   "source": [
    "#### 2.8.3. Optional 3"
   ]
  },
  {
   "cell_type": "code",
   "execution_count": null,
   "metadata": {},
   "outputs": [],
   "source": []
  },
  {
   "cell_type": "code",
   "execution_count": null,
   "metadata": {},
   "outputs": [],
   "source": []
  }
 ],
 "metadata": {
  "kernelspec": {
   "display_name": "Python 3",
   "language": "python",
   "name": "python3"
  },
  "language_info": {
   "codemirror_mode": {
    "name": "ipython",
    "version": 3
   },
   "file_extension": ".py",
   "mimetype": "text/x-python",
   "name": "python",
   "nbconvert_exporter": "python",
   "pygments_lexer": "ipython3",
   "version": "3.7.5"
  }
 },
 "nbformat": 4,
 "nbformat_minor": 2
}
